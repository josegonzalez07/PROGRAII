{
  "nbformat": 4,
  "nbformat_minor": 0,
  "metadata": {
    "colab": {
      "provenance": [],
      "authorship_tag": "ABX9TyPNi0FQxcdNag0ooMxO+GD1",
      "include_colab_link": true
    },
    "kernelspec": {
      "name": "python3",
      "display_name": "Python 3"
    },
    "language_info": {
      "name": "python"
    }
  },
  "cells": [
    {
      "cell_type": "markdown",
      "metadata": {
        "id": "view-in-github",
        "colab_type": "text"
      },
      "source": [
        "<a href=\"https://colab.research.google.com/github/josegonzalez07/PROGRAII/blob/main/Untitled0.ipynb\" target=\"_parent\"><img src=\"https://colab.research.google.com/assets/colab-badge.svg\" alt=\"Open In Colab\"/></a>"
      ]
    },
    {
      "cell_type": "markdown",
      "source": [
        "ejercicio de convertir a celsius a fahrenheit a kelvin\n"
      ],
      "metadata": {
        "id": "CWmmvHB_INDq"
      }
    },
    {
      "cell_type": "code",
      "source": [
        "celsius = int(input(\"ingresar la temperatura en celsius:\"))\n",
        "fahrenheit = (celsius * 9/5)+ 32\n",
        "kelvin = celsius + 273.15\n",
        "print(f\"{celsius:.2f} grados Celsius son {fahrenheit:.2f} grados fahrenheit {kelvin:.2f} grados kelvin\")"
      ],
      "metadata": {
        "id": "Tv0fHWy_IKeX"
      },
      "execution_count": null,
      "outputs": []
    },
    {
      "cell_type": "markdown",
      "source": [
        "ejercicio convertir celsius a farenheit\n"
      ],
      "metadata": {
        "id": "wAKocOZYIZpQ"
      }
    },
    {
      "cell_type": "code",
      "source": [
        "def covertir(f):\n",
        "  c=(f-32) * 5/9\n",
        "  return c"
      ],
      "metadata": {
        "id": "tY0vaMdaIi11"
      },
      "execution_count": null,
      "outputs": []
    },
    {
      "cell_type": "code",
      "source": [
        "f = float(input(\"ingresa los grados farenheit: \"))\n",
        "print(f\"la coversion a grados celsius es: \", covertir(f))"
      ],
      "metadata": {
        "colab": {
          "base_uri": "https://localhost:8080/"
        },
        "id": "0ELeB9ZJKS-0",
        "outputId": "0f78845d-8c30-4e80-c480-239bcb7b3e3a"
      },
      "execution_count": null,
      "outputs": [
        {
          "output_type": "stream",
          "name": "stdout",
          "text": [
            "ingresa los grados farenheit: 10\n",
            "la coversion a grados celsius es:  -12.222222222222221\n"
          ]
        }
      ]
    },
    {
      "cell_type": "code",
      "source": [],
      "metadata": {
        "id": "ktm8-GD8OHir"
      },
      "execution_count": null,
      "outputs": []
    }
  ]
}